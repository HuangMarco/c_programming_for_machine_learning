{
  "nbformat": 4,
  "nbformat_minor": 0,
  "metadata": {
    "colab": {
      "name": "Cython.ipynb",
      "version": "0.3.2",
      "provenance": [],
      "collapsed_sections": []
    },
    "kernelspec": {
      "name": "python3",
      "display_name": "Python 3"
    }
  },
  "cells": [
    {
      "metadata": {
        "id": "HDxtxr8SN_Dp",
        "colab_type": "code",
        "colab": {
          "base_uri": "https://localhost:8080/",
          "height": 1193
        },
        "outputId": "0653b459-ec13-4624-9e45-2ccc82fbec6b"
      },
      "cell_type": "code",
      "source": [
        "!pip install cython\n",
        "!pip install spacy"
      ],
      "execution_count": 4,
      "outputs": [
        {
          "output_type": "stream",
          "text": [
            "Requirement already satisfied: cython in /usr/local/lib/python3.6/dist-packages (0.28.5)\n",
            "Collecting spacy\n",
            "\u001b[?25l  Downloading https://files.pythonhosted.org/packages/24/de/ac14cd453c98656d6738a5669f96a4ac7f668493d5e6b78227ac933c5fd4/spacy-2.0.12.tar.gz (22.0MB)\n",
            "\u001b[K    100% |████████████████████████████████| 22.0MB 1.5MB/s \n",
            "\u001b[?25hRequirement already satisfied: numpy>=1.7 in /usr/local/lib/python3.6/dist-packages (from spacy) (1.14.5)\n",
            "Collecting murmurhash<0.29,>=0.28 (from spacy)\n",
            "  Downloading https://files.pythonhosted.org/packages/5e/31/c8c1ecafa44db30579c8c457ac7a0f819e8b1dbc3e58308394fff5ff9ba7/murmurhash-0.28.0.tar.gz\n",
            "Collecting cymem<1.32,>=1.30 (from spacy)\n",
            "  Downloading https://files.pythonhosted.org/packages/f8/9e/273fbea507de99166c11cd0cb3fde1ac01b5bc724d9a407a2f927ede91a1/cymem-1.31.2.tar.gz\n",
            "Collecting preshed<2.0.0,>=1.0.0 (from spacy)\n",
            "\u001b[?25l  Downloading https://files.pythonhosted.org/packages/be/fc/09684555ce0ee7086675e6be698e4efeb6d9b315fd5aa96bed347572282b/preshed-1.0.1.tar.gz (112kB)\n",
            "\u001b[K    100% |████████████████████████████████| 122kB 25.7MB/s \n",
            "\u001b[?25hCollecting thinc<6.11.0,>=6.10.3 (from spacy)\n",
            "\u001b[?25l  Downloading https://files.pythonhosted.org/packages/94/b1/47a88072d0a38b3594c0a638a62f9ef7c742b8b8a87f7b105f7ed720b14b/thinc-6.10.3.tar.gz (1.2MB)\n",
            "\u001b[K    100% |████████████████████████████████| 1.2MB 11.9MB/s \n",
            "\u001b[?25hCollecting plac<1.0.0,>=0.9.6 (from spacy)\n",
            "  Downloading https://files.pythonhosted.org/packages/9e/9b/62c60d2f5bc135d2aa1d8c8a86aaf84edb719a59c7f11a4316259e61a298/plac-0.9.6-py2.py3-none-any.whl\n",
            "Collecting ujson>=1.35 (from spacy)\n",
            "\u001b[?25l  Downloading https://files.pythonhosted.org/packages/16/c4/79f3409bc710559015464e5f49b9879430d8f87498ecdc335899732e5377/ujson-1.35.tar.gz (192kB)\n",
            "\u001b[K    100% |████████████████████████████████| 194kB 22.0MB/s \n",
            "\u001b[?25hCollecting dill<0.3,>=0.2 (from spacy)\n",
            "\u001b[?25l  Downloading https://files.pythonhosted.org/packages/6f/78/8b96476f4ae426db71c6e86a8e6a81407f015b34547e442291cd397b18f3/dill-0.2.8.2.tar.gz (150kB)\n",
            "\u001b[K    100% |████████████████████████████████| 153kB 21.6MB/s \n",
            "\u001b[?25hCollecting regex==2017.4.5 (from spacy)\n",
            "\u001b[?25l  Downloading https://files.pythonhosted.org/packages/36/62/c0c0d762ffd4ffaf39f372eb8561b8d491a11ace5a7884610424a8b40f95/regex-2017.04.05.tar.gz (601kB)\n",
            "\u001b[K    100% |████████████████████████████████| 604kB 18.2MB/s \n",
            "\u001b[?25hRequirement already satisfied: requests<3.0.0,>=2.13.0 in /usr/local/lib/python3.6/dist-packages (from spacy) (2.18.4)\n",
            "Collecting msgpack<1.0.0,>=0.5.6 (from thinc<6.11.0,>=6.10.3->spacy)\n",
            "\u001b[?25l  Downloading https://files.pythonhosted.org/packages/22/4e/dcf124fd97e5f5611123d6ad9f40ffd6eb979d1efdc1049e28a795672fcd/msgpack-0.5.6-cp36-cp36m-manylinux1_x86_64.whl (315kB)\n",
            "\u001b[K    100% |████████████████████████████████| 317kB 20.6MB/s \n",
            "\u001b[?25hCollecting msgpack-numpy<1.0.0,>=0.4.1 (from thinc<6.11.0,>=6.10.3->spacy)\n",
            "  Downloading https://files.pythonhosted.org/packages/84/09/fc890664a7a1dd0a88f46c93fb9340d0a27a69e82095a4a54aef2ed94a6d/msgpack_numpy-0.4.3.1-py2.py3-none-any.whl\n",
            "Collecting cytoolz<0.10,>=0.9.0 (from thinc<6.11.0,>=6.10.3->spacy)\n",
            "\u001b[?25l  Downloading https://files.pythonhosted.org/packages/36/f4/9728ba01ccb2f55df9a5af029b48ba0aaca1081bbd7823ea2ee223ba7a42/cytoolz-0.9.0.1.tar.gz (443kB)\n",
            "\u001b[K    100% |████████████████████████████████| 450kB 18.8MB/s \n",
            "\u001b[?25hCollecting wrapt<1.11.0,>=1.10.0 (from thinc<6.11.0,>=6.10.3->spacy)\n",
            "  Downloading https://files.pythonhosted.org/packages/a0/47/66897906448185fcb77fc3c2b1bc20ed0ecca81a0f2f88eda3fc5a34fc3d/wrapt-1.10.11.tar.gz\n",
            "Requirement already satisfied: tqdm<5.0.0,>=4.10.0 in /usr/local/lib/python3.6/dist-packages (from thinc<6.11.0,>=6.10.3->spacy) (4.25.0)\n",
            "Requirement already satisfied: six<2.0.0,>=1.10.0 in /usr/local/lib/python3.6/dist-packages (from thinc<6.11.0,>=6.10.3->spacy) (1.11.0)\n",
            "Requirement already satisfied: urllib3<1.23,>=1.21.1 in /usr/local/lib/python3.6/dist-packages (from requests<3.0.0,>=2.13.0->spacy) (1.22)\n",
            "Requirement already satisfied: certifi>=2017.4.17 in /usr/local/lib/python3.6/dist-packages (from requests<3.0.0,>=2.13.0->spacy) (2018.8.24)\n",
            "Requirement already satisfied: idna<2.7,>=2.5 in /usr/local/lib/python3.6/dist-packages (from requests<3.0.0,>=2.13.0->spacy) (2.6)\n",
            "Requirement already satisfied: chardet<3.1.0,>=3.0.2 in /usr/local/lib/python3.6/dist-packages (from requests<3.0.0,>=2.13.0->spacy) (3.0.4)\n",
            "Requirement already satisfied: toolz>=0.8.0 in /usr/local/lib/python3.6/dist-packages (from cytoolz<0.10,>=0.9.0->thinc<6.11.0,>=6.10.3->spacy) (0.9.0)\n",
            "Building wheels for collected packages: spacy, murmurhash, cymem, preshed, thinc, ujson, dill, regex, cytoolz, wrapt\n",
            "  Running setup.py bdist_wheel for spacy ... \u001b[?25l-\b \b\\\b \b|\b \b/\b \b-\b \b\\\b \b|\b \b/\b \b-\b \b\\\b \b|\b \b/\b \b-\b \b\\\b \b|\b \b/\b \b-\b \b\\\b \b|\b \b/\b \b-\b \b\\\b \b|\b \b/\b \b-\b \b\\\b \b|\b \b/\b \b-\b \b\\\b \b|\b \b/\b \b-\b \b\\\b \b|\b \b/\b \b-\b \b\\\b \b|\b \b/\b \b-\b \b\\\b \b|\b \b/\b \b-\b \b\\\b \b|\b \b/\b \b-\b \b\\\b \b|\b \b/\b \b-\b \b\\\b \b|\b \b/\b \b-\b \b\\\b \b|\b \b/\b \b-\b \b\\\b \b|\b \b/\b \b-\b \b\\\b \b|\b \b/\b \b-\b \b\\\b \b|\b \b/\b \b-\b \b\\\b \b|\b \b/\b \b-\b \b\\\b \b|\b \b/\b \b-\b \b\\\b \b|\b \b/\b \b-\b \b\\\b \b|\b \bdone\n",
            "\u001b[?25h  Stored in directory: /root/.cache/pip/wheels/60/0b/bb/7c2e28db574dbb2358176934eddd32a1c5f838ba0bc23eaaab\n",
            "  Running setup.py bdist_wheel for murmurhash ... \u001b[?25l-\b \b\\\b \b|\b \b/\b \bdone\n",
            "\u001b[?25h  Stored in directory: /root/.cache/pip/wheels/b8/94/a4/f69f8664cdc1098603df44771b7fec5fd1b3d8364cdd83f512\n",
            "  Running setup.py bdist_wheel for cymem ... \u001b[?25l-\b \b\\\b \bdone\n",
            "\u001b[?25h  Stored in directory: /root/.cache/pip/wheels/55/8d/4a/f6328252aa2aaec0b1cb906fd96a1566d77f0f67701071ad13\n",
            "  Running setup.py bdist_wheel for preshed ... \u001b[?25l-\b \b\\\b \b|\b \b/\b \b-\b \b\\\b \b|\b \bdone\n",
            "\u001b[?25h  Stored in directory: /root/.cache/pip/wheels/ca/e5/8b/73706d7232da301838e0bc564367a2f7b2fc8f834228fc8a4b\n",
            "  Running setup.py bdist_wheel for thinc ... \u001b[?25l-\b \b\\\b \b|\b \b/\b \b-\b \b\\\b \b|\b \b/\b \b-\b \b\\\b \b|\b \b/\b \b-\b \b\\\b \b|\b \b/\b \b-\b \b\\\b \b|\b \b/\b \b-\b \b\\\b \b|\b \b/\b \b-\b \b\\\b \b|\b \b/\b \b-\b \b\\\b \b|\b \bdone\n",
            "\u001b[?25h  Stored in directory: /root/.cache/pip/wheels/db/bc/e1/9b321b6b203288cf636a56e668ed5700076af4ed66062278ca\n",
            "  Running setup.py bdist_wheel for ujson ... \u001b[?25l-\b \b\\\b \b|\b \b/\b \b-\b \b\\\b \bdone\n",
            "\u001b[?25h  Stored in directory: /root/.cache/pip/wheels/28/77/e4/0311145b9c2e2f01470e744855131f9e34d6919687550f87d1\n",
            "  Running setup.py bdist_wheel for dill ... \u001b[?25l-\b \b\\\b \bdone\n",
            "\u001b[?25h  Stored in directory: /root/.cache/pip/wheels/e2/5d/17/f87cb7751896ac629b435a8696f83ee75b11029f5d6f6bda72\n",
            "  Running setup.py bdist_wheel for regex ... \u001b[?25l-\b \b\\\b \b|\b \b/\b \b-\b \b\\\b \b|\b \b/\b \bdone\n",
            "\u001b[?25h  Stored in directory: /root/.cache/pip/wheels/75/07/38/3c16b529d50cb4e0cd3dbc7b75cece8a09c132692c74450b01\n",
            "  Running setup.py bdist_wheel for cytoolz ... \u001b[?25l-\b \b\\\b \b|\b \b/\b \b-\b \b\\\b \b|\b \b/\b \bdone\n",
            "\u001b[?25h  Stored in directory: /root/.cache/pip/wheels/88/f3/11/9817b001e59ab04889e8cffcbd9087e2e2155b9ebecfc8dd38\n",
            "  Running setup.py bdist_wheel for wrapt ... \u001b[?25l-\b \b\\\b \bdone\n",
            "\u001b[?25h  Stored in directory: /root/.cache/pip/wheels/48/5d/04/22361a593e70d23b1f7746d932802efe1f0e523376a74f321e\n",
            "Successfully built spacy murmurhash cymem preshed thinc ujson dill regex cytoolz wrapt\n",
            "Installing collected packages: murmurhash, cymem, preshed, msgpack, msgpack-numpy, cytoolz, wrapt, plac, dill, thinc, ujson, regex, spacy\n",
            "Successfully installed cymem-1.31.2 cytoolz-0.9.0.1 dill-0.2.8.2 msgpack-0.5.6 msgpack-numpy-0.4.3.1 murmurhash-0.28.0 plac-0.9.6 preshed-1.0.1 regex-2017.4.5 spacy-2.0.12 thinc-6.10.3 ujson-1.35 wrapt-1.10.11\n"
          ],
          "name": "stdout"
        }
      ]
    },
    {
      "metadata": {
        "id": "Al08kI10bo3b",
        "colab_type": "text"
      },
      "cell_type": "markdown",
      "source": [
        "helllo\n",
        "## Cython\n",
        "\n",
        "![alt text](https://i.ytimg.com/vi/mXuEoqK4bEc/maxresdefault.jpg \"Logo Title Text 1\")\n",
        "\n",
        "\n",
        "- Python is one of the most convenient, richly outfitted, and useful programming languages.\n",
        "- Execution speed? Not so much.\n",
        "-Enter Cython. The Cython language is a superset of Python that compiles to C, yielding  performance boosts that can range from a few percent to several orders of magnitude, depending on the task at hand. \n",
        "- For work that is bound by Python’s native object types, the speedups won’t be large. \n",
        "- But for numerical operations, or any operations not involving Python’s own internals, the gains can be massive. \n",
        "- This way, many of Python’s native limitations can be routed around or transcended entirely.\n",
        "\n",
        "![alt text](https://upload.wikimedia.org/wikipedia/commons/thumb/e/e0/Cython_CPython_Ext_Module_Workflow.png/220px-Cython_CPython_Ext_Module_Workflow.png \"Logo Title Text 1\")\n",
        "\n",
        "### With Cython, you can skirt avoid of Python’s native limitations or transcend them entirely—without having to give up Python’s ease and convenience. \n",
        "\n",
        "![alt text](https://image.slidesharecdn.com/lez1-171127212726/95/snw-introduction-to-pynq-platform-and-python-language-16-638.jpg?cb=1511818642 \"Logo Title Text 1\")\n",
        "\n",
        "- Python code can make calls directly into C modules. \n",
        "- These can be either generic C libraries or libraries built specifically to work with Python. \n",
        "- Cython generates the second kind of module: C libraries that talk to Python’s internals, and that can be bundled with existing Python code.\n",
        "- Cython looks like Python\n",
        "- If we feed the Cython compiler a Python program, it will accept it as-is, but none of Cython’s native accelerations will come into play. - - If we decorate the Python code with type annotations in Cython’s special syntax, Cython will be able to substitute fast C equivalents for slow Python objects.\n",
        "- A developer can begin with an existing Python application, and speed it up by making spot changes to the code, rather than rewriting the whole application from the ground up.\n",
        "\n",
        "### Most of the code in a Python application doesn’t need to be performance-optimized, just a few critical pieces. Pareto Principal\n",
        "\n",
        "\n"
      ]
    },
    {
      "metadata": {
        "id": "iNuyvx9KfJ5t",
        "colab_type": "text"
      },
      "cell_type": "markdown",
      "source": [
        "Lets try a simple example\n",
        "- We have a big set of rectangles stored as a list of Python objects\n",
        "-  Lets count how many rectangles we have whos area is larger than a threshold value\n"
      ]
    },
    {
      "metadata": {
        "id": "FbFoTiGbPrMa",
        "colab_type": "code",
        "colab": {}
      },
      "cell_type": "code",
      "source": [
        "#pseudo random number generator, dimensions of rectangle\n",
        "from random import random\n",
        "\n",
        "#OOP 0:) \n",
        "class Rectangle:\n",
        "    def __init__(self, w, h):\n",
        "        self.w = w\n",
        "        self.h = h\n",
        "    #formula for area of rectangle\n",
        "    def area(self):\n",
        "        return self.w * self.h\n",
        "\n",
        "#check each to see if its area is within our threshold\n",
        "def check_rectangles_py(rectangles, threshold):\n",
        "    #init the counter\n",
        "    n_out = 0\n",
        "    #for each rectangle\n",
        "    for rectangle in rectangles:\n",
        "        #check if its within our threshold, if so, add it to our counter\n",
        "        if rectangle.area() > threshold:\n",
        "            n_out += 1\n",
        "    return n_out\n",
        "\n",
        "def main_rectangles_slow():\n",
        "    #init number of rectangles\n",
        "    n_rectangles = 10000000\n",
        "    #init rectangle object list\n",
        "    rectangles = list(Rectangle(random(), random()) for i in range(n_rectangles))\n",
        "    #perform check\n",
        "    n_out = check_rectangles_py(rectangles, threshold=0.25)\n",
        "    print(n_out)"
      ],
      "execution_count": 0,
      "outputs": []
    },
    {
      "metadata": {
        "id": "0xeLdJFnQg9Z",
        "colab_type": "code",
        "colab": {
          "base_uri": "https://localhost:8080/",
          "height": 68
        },
        "outputId": "15bc79d1-575f-4c3e-8d08-fa8ecb719c18"
      },
      "cell_type": "code",
      "source": [
        "%%time\n",
        "# Let's run it:\n",
        "main_rectangles_slow()"
      ],
      "execution_count": 6,
      "outputs": [
        {
          "output_type": "stream",
          "text": [
            "4032810\n",
            "CPU times: user 16.9 s, sys: 1.6 s, total: 18.5 s\n",
            "Wall time: 18.5 s\n"
          ],
          "name": "stdout"
        }
      ]
    },
    {
      "metadata": {
        "id": "JnItZnc7QsGq",
        "colab_type": "code",
        "colab": {}
      },
      "cell_type": "code",
      "source": [
        "%load_ext Cython"
      ],
      "execution_count": 0,
      "outputs": []
    },
    {
      "metadata": {
        "id": "yf5tZViJRzu7",
        "colab_type": "code",
        "colab": {}
      },
      "cell_type": "code",
      "source": [
        "%%cython\n",
        "#memory management helper for Cython\n",
        "from cymem.cymem cimport Pool\n",
        "#good ol python\n",
        "from random import random\n",
        "\n",
        "#The cdef statement is used to declare C variables,types, and functions\n",
        "cdef struct Rectangle:\n",
        "    #C variables\n",
        "    float w\n",
        "    float h\n",
        "\n",
        "#the \"*\" is the pointer operator, it gives value stored at particular address\n",
        "#this saves memory and runs faster, since we don't have to duplicate the data\n",
        "cdef int check_rectangles_cy(Rectangle* rectangles, int n_rectangles, float threshold):\n",
        "    cdef int n_out = 0\n",
        "    # C arrays contain no size information => we need to state it explicitly\n",
        "    for rectangle in rectangles[:n_rectangles]:\n",
        "        if rectangle.w * rectangle.h > threshold:\n",
        "            n_out += 1\n",
        "    return n_out\n",
        "\n",
        "  #python uses garbage collection instead of manual memory management\n",
        "  #which means developers can freely create objects\n",
        "  #and Python's memory manager will periodically look for any\n",
        "  # objects that are no longer referenced by their program\n",
        "  #this overhead makes demands on the runtime environment (slower)\n",
        "  # so manually memory management is better\n",
        "def main_rectangles_fast():\n",
        "    cdef int n_rectangles = 10000000\n",
        "    cdef float threshold = 0.25\n",
        "    #The Poool Object will save memory addresses internally\n",
        "    #then free them when the object is garbage collected\n",
        "    \n",
        "    cdef Pool mem = Pool()\n",
        "    cdef Rectangle* rectangles = <Rectangle*>mem.alloc(n_rectangles, sizeof(Rectangle))\n",
        "    for i in range(n_rectangles):\n",
        "        rectangles[i].w = random()\n",
        "        rectangles[i].h = random()\n",
        "    n_out = check_rectangles_cy(rectangles, n_rectangles, threshold)\n",
        "    print(n_out)"
      ],
      "execution_count": 0,
      "outputs": []
    },
    {
      "metadata": {
        "id": "XNDNYLwER1Ty",
        "colab_type": "code",
        "colab": {
          "base_uri": "https://localhost:8080/",
          "height": 68
        },
        "outputId": "0d142e87-865f-43da-821e-5a3853bb99f9"
      },
      "cell_type": "code",
      "source": [
        "%%time\n",
        "main_rectangles_fast()"
      ],
      "execution_count": 20,
      "outputs": [
        {
          "output_type": "stream",
          "text": [
            "4037437\n",
            "CPU times: user 776 ms, sys: 26.7 ms, total: 803 ms\n",
            "Wall time: 800 ms\n"
          ],
          "name": "stdout"
        }
      ]
    },
    {
      "metadata": {
        "id": "r5eXntfygcsu",
        "colab_type": "text"
      },
      "cell_type": "markdown",
      "source": [
        "![alt text](https://qph.fs.quoracdn.net/main-qimg-0a2f519557dead772f74a02aa267f431 \"Logo Title Text 1\")\n",
        "\n",
        "- spaCy is a python library excels at large-scale information extraction tasks. \n",
        "- It's written from the ground up in carefully memory-managed Cython.\n",
        "- Independent research has confirmed that spaCy is the fastest python NLP library in the world. \n",
        "- All strings in SpaCy are stored in a single data strcuture called the StringStore\n",
        "- thats where they are indexed by 64 bit C level hashes\n",
        "- StringStore implements a look up between Python unicode strings and 64 bit hashes\n",
        "- i.e nlp.vocab.strings, doc.vocab.strings, etc.\n",
        "- Need fast NLP? SpaCy will use the C level hashes instead of strings\n",
        "\n",
        "\n",
        "![alt text](https://spacy.io/assets/img/architecture.svg \"Logo Title Text 1\")\n",
        "\n",
        "- If your application needs to process entire web dumps, spaCy is the library you want to be using.\n",
        "- like ruby on rails for natural language processing\n",
        "- spaCy is the best way to prepare text for deep learning. \n",
        "- It interoperates seamlessly with TensorFlow, PyTorch, scikit-learn, Gensim and the rest of Python's awesome AI ecosystem. \n",
        "- With spaCy, you can easily construct linguistically sophisticated statistical models for a variety of NLP problems.\n",
        "\n",
        "![alt text](https://nlpforhackers.io/wp-content/uploads/2018/03/spaCy.png \"Logo Title Text 1\")\n"
      ]
    },
    {
      "metadata": {
        "id": "oWOPHfMvUkXe",
        "colab_type": "code",
        "colab": {
          "base_uri": "https://localhost:8080/",
          "height": 136
        },
        "outputId": "1a25cfa9-f151-4366-ef6f-272a4824461a"
      },
      "cell_type": "code",
      "source": [
        "# Set up spaCy\n",
        "import spacy.cli\n",
        "spacy.cli.download(\"en\")\n",
        "nlp = spacy.load('en')\n",
        "\n",
        "\n",
        "\n",
        "# Test Data\n",
        "multiSentence = \"There is an art, it says, or rather, a knack to flying.\" \\\n",
        "                 \"The knack lies in learning how to throw yourself at the ground and miss.\" \\\n",
        "                 \"In the beginning the Universe was created. This has made a lot of people \"\\\n",
        "                 \"very angry and been widely regarded as a bad move.\"\n",
        "parsedData = nlp(multiSentence)"
      ],
      "execution_count": 12,
      "outputs": [
        {
          "output_type": "stream",
          "text": [
            "\n",
            "\u001b[93m    Linking successful\u001b[0m\n",
            "    /usr/local/lib/python3.6/dist-packages/en_core_web_sm -->\n",
            "    /usr/local/lib/python3.6/dist-packages/spacy/data/en\n",
            "\n",
            "    You can now load the model via spacy.load('en')\n",
            "\n"
          ],
          "name": "stdout"
        }
      ]
    },
    {
      "metadata": {
        "id": "G45V_GkUZbwo",
        "colab_type": "code",
        "colab": {
          "base_uri": "https://localhost:8080/",
          "height": 289
        },
        "outputId": "2bf23a01-061b-421a-8aad-dbdabb9d164c"
      },
      "cell_type": "code",
      "source": [
        "# Let's look at the part of speech tags of the first sentence\n",
        "for span in parsedData.sents:\n",
        "    sent = [parsedData[i] for i in range(span.start, span.end)]\n",
        "    break\n",
        "\n",
        "for token in sent:\n",
        "    print(token.orth_, token.pos_)"
      ],
      "execution_count": 20,
      "outputs": [
        {
          "output_type": "stream",
          "text": [
            "There ADV\n",
            "is VERB\n",
            "an DET\n",
            "art NOUN\n",
            ", PUNCT\n",
            "it PRON\n",
            "says VERB\n",
            ", PUNCT\n",
            "or CCONJ\n",
            "rather ADV\n",
            ", PUNCT\n",
            "a DET\n",
            "knack NOUN\n",
            "to ADP\n",
            "flying NOUN\n",
            ". PUNCT\n"
          ],
          "name": "stdout"
        }
      ]
    },
    {
      "metadata": {
        "id": "chivPjlcZfDX",
        "colab_type": "code",
        "colab": {
          "base_uri": "https://localhost:8080/",
          "height": 221
        },
        "outputId": "72cbec01-b02f-4272-b7e9-7ba17557ed06"
      },
      "cell_type": "code",
      "source": [
        "\n",
        "# Let's look at the dependencies of this example:# Let's  \n",
        "example = \"The boy with the spotted dog quickly ran after the firetruck.\"\n",
        "parsedEx = nlp(example)\n",
        "# shown as: original token, dependency tag, head word, left dependents, right dependents\n",
        "for token in parsedEx:\n",
        "    print(token.orth_, token.dep_, token.head.orth_, [t.orth_ for t in token.lefts], [t.orth_ for t in token.rights])"
      ],
      "execution_count": 17,
      "outputs": [
        {
          "output_type": "stream",
          "text": [
            "The det boy [] []\n",
            "boy nsubj ran ['The'] ['with']\n",
            "with prep boy [] ['dog']\n",
            "the det dog [] []\n",
            "spotted amod dog [] []\n",
            "dog pobj with ['the', 'spotted'] []\n",
            "quickly advmod ran [] []\n",
            "ran ROOT ran ['boy', 'quickly'] ['after', '.']\n",
            "after prep ran [] ['firetruck']\n",
            "the det firetruck [] []\n",
            "firetruck pobj after ['the'] []\n",
            ". punct ran [] []\n"
          ],
          "name": "stdout"
        }
      ]
    },
    {
      "metadata": {
        "id": "I0mV5jlIZmI_",
        "colab_type": "code",
        "colab": {
          "base_uri": "https://localhost:8080/",
          "height": 323
        },
        "outputId": "18a0b4ad-5ab0-4fdf-9b2e-e76f78d0ab6e"
      },
      "cell_type": "code",
      "source": [
        "# Let's look at the named entities of this example:\n",
        "example = \"Apple's stocks dropped dramatically after the death of Steve Jobs in October.\"\n",
        "parsedEx = nlp(example)\n",
        "for token in parsedEx:\n",
        "    print(token.orth_, token.ent_type_ if token.ent_type_ != \"\" else \"(not an entity)\")\n",
        "\n",
        "print(\"-------------- entities only ---------------\")\n",
        "# if you just want the entities and nothing else, you can do access the parsed examples \"ents\" property like this:\n",
        "ents = list(parsedEx.ents)\n",
        "for entity in ents:\n",
        "    print(entity.label, entity.label_, ' '.join(t.orth_ for t in entity))"
      ],
      "execution_count": 32,
      "outputs": [
        {
          "output_type": "stream",
          "text": [
            "Apple ORG\n",
            "'s (not an entity)\n",
            "stocks (not an entity)\n",
            "dropped (not an entity)\n",
            "dramatically (not an entity)\n",
            "after (not an entity)\n",
            "the (not an entity)\n",
            "death (not an entity)\n",
            "of (not an entity)\n",
            "Steve PERSON\n",
            "Jobs PERSON\n",
            "in (not an entity)\n",
            "October DATE\n",
            ". (not an entity)\n",
            "-------------- entities only ---------------\n",
            "381 ORG Apple\n",
            "378 PERSON Steve Jobs\n",
            "388 DATE October\n"
          ],
          "name": "stdout"
        }
      ]
    }
  ]
}